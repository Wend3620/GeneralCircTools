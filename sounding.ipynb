{
 "cells": [
  {
   "cell_type": "code",
   "execution_count": 22,
   "metadata": {},
   "outputs": [],
   "source": [
    "height = list(range(600, 600+47*300+100, 300))\n",
    "theta600 = 300 #Theta\n",
    "P600 = 95000 #Pressure in Pa\n",
    "rho = 1.10 #Density\n",
    "freq = 0.1 #BV frequency\n",
    "profile = []\n",
    "for i in height:\n",
    "    profile.append([i, 0, 0, 0, 0]) #Height, Potential temperature, mixing ratio, u, v\n",
    "\n",
    "dtdz = 0\n",
    "for j in range(len(profile)):\n",
    "    if profile[j][0] == 600:\n",
    "        profile[j][1] = 300.00\n",
    "        dtdz = 0.01**2 * profile[j][1] / 9.81\n",
    "    elif profile[j][0] <= 12000:\n",
    "        profile[j][1] = round(profile[j-1][1] + dtdz*300, 4)\n",
    "        dtdz = 0.01**2 * profile[j][1] / 9.81\n",
    "    else:\n",
    "        profile[j][1] = round(profile[j-1][1] + 9/1000*300, 4)\n",
    "with open(\"trial.txt\", \"w\") as f:\n",
    "    for row in profile:\n",
    "        string = \"\"\n",
    "        for h in range(5):\n",
    "            if h!=2:\n",
    "                string += f\"{float(row[h]):>13.4f}\"\n",
    "            else:\n",
    "                string += f\"{float(row[h]):>12.6f}\"\n",
    "        f.write(string+\"\\n\")\n"
   ]
  },
  {
   "cell_type": "code",
   "execution_count": 12,
   "metadata": {},
   "outputs": [
    {
     "data": {
      "text/plain": [
       "13"
      ]
     },
     "execution_count": 12,
     "metadata": {},
     "output_type": "execute_result"
    }
   ],
   "source": [
    "len(\"       361.21\")"
   ]
  },
  {
   "cell_type": "code",
   "execution_count": 9,
   "metadata": {},
   "outputs": [
    {
     "data": {
      "text/plain": [
       "''"
      ]
     },
     "execution_count": 9,
     "metadata": {},
     "output_type": "execute_result"
    }
   ],
   "source": [
    "\"\"*10"
   ]
  },
  {
   "cell_type": "code",
   "execution_count": null,
   "metadata": {},
   "outputs": [],
   "source": []
  }
 ],
 "metadata": {
  "kernelspec": {
   "display_name": "plot",
   "language": "python",
   "name": "python3"
  },
  "language_info": {
   "codemirror_mode": {
    "name": "ipython",
    "version": 3
   },
   "file_extension": ".py",
   "mimetype": "text/x-python",
   "name": "python",
   "nbconvert_exporter": "python",
   "pygments_lexer": "ipython3",
   "version": "3.10.8"
  },
  "orig_nbformat": 4
 },
 "nbformat": 4,
 "nbformat_minor": 2
}
